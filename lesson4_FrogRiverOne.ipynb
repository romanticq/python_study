{
 "cells": [
  {
   "cell_type": "markdown",
   "metadata": {},
   "source": [
    "# problem"
   ]
  },
  {
   "cell_type": "markdown",
   "metadata": {},
   "source": [
    "A small frog wants to get to the other side of a river. The frog is initially located on one bank of the river (position 0) and wants to get to the opposite bank (position X+1). Leaves fall from a tree onto the surface of the river.\n",
    "\n",
    "You are given an array A consisting of N integers representing the falling leaves. A[K] represents the position where one leaf falls at time K, measured in seconds.\n",
    "\n",
    "The goal is to find the earliest time when the frog can jump to the other side of the river. The frog can cross only when leaves appear at every position across the river from 1 to X (that is, we want to find the earliest moment when all the positions from 1 to X are covered by leaves). You may assume that the speed of the current in the river is negligibly small, i.e. the leaves do not change their positions once they fall in the river.\n",
    "\n",
    "For example, you are given integer X = 5 and array A such that:\n",
    "\n",
    "  A[0] = 1  \n",
    "  A[1] = 3  \n",
    "  A[2] = 1  \n",
    "  A[3] = 4  \n",
    "  A[4] = 2  \n",
    "  A[5] = 3  \n",
    "  A[6] = 5  \n",
    "  A[7] = 4  \n",
    "In second 6, a leaf falls into position 5. This is the earliest time when leaves appear in every position across the river.\n",
    "\n",
    "Write a function:\n",
    "\n",
    "def solution(X, A)\n",
    "\n",
    "that, given a non-empty array A consisting of N integers and integer X, returns the earliest time when the frog can jump to the other side of the river.\n",
    "\n",
    "If the frog is never able to jump to the other side of the river, the function should return −1.\n",
    "\n",
    "For example, given X = 5 and array A such that:\n",
    "\n",
    "  A[0] = 1  \n",
    "  A[1] = 3  \n",
    "  A[2] = 1  \n",
    "  A[3] = 4  \n",
    "  A[4] = 2  \n",
    "  A[5] = 3  \n",
    "  A[6] = 5  \n",
    "  A[7] = 4  \n",
    "the function should return 6, as explained above.\n",
    "\n",
    "Write an efficient algorithm for the following assumptions:\n",
    "\n",
    "N and X are integers within the range [1..100,000];  \n",
    "each element of array A is an integer within the range [1..X]."
   ]
  },
  {
   "cell_type": "markdown",
   "metadata": {},
   "source": [
    "# solution"
   ]
  },
  {
   "cell_type": "markdown",
   "metadata": {},
   "source": [
    "# O(N^2)"
   ]
  },
  {
   "cell_type": "code",
   "execution_count": 138,
   "metadata": {},
   "outputs": [
    {
     "name": "stdout",
     "output_type": "stream",
     "text": [
      "[0, 2, 1, 2] {0, 1, 2} 4\n"
     ]
    }
   ],
   "source": [
    "def solution(X,A):\n",
    "    B=[]\n",
    "    leaf=[0]*(X+1)\n",
    "    for i in range(len(A)):\n",
    "        leaf[A[i]] += 1\n",
    "        if leaf.count(0)==1:\n",
    "            B.append(sum(leaf)-1)\n",
    "            break\n",
    "    if leaf.count(0)>1:\n",
    "        B.append(-1)\n",
    "    return print(leaf,set(leaf),B[0])\n",
    "A=[1,3,1,3,2,1,3]\n",
    "solution(3,A)"
   ]
  },
  {
   "cell_type": "code",
   "execution_count": 99,
   "metadata": {},
   "outputs": [
    {
     "name": "stdout",
     "output_type": "stream",
     "text": [
      "[0, 8, 1, 1, 1] []\n"
     ]
    }
   ],
   "source": [
    "def solution(A,X):\n",
    "    B=[]\n",
    "    leaf=[0]*(X+1)\n",
    "    for i in range(len(A)):\n",
    "        leaf[A[i]] += 1\n",
    "        if leaf[X]==1 and leaf.count(0)==1:\n",
    "            break\n",
    "            B.append(sum(leaf)-1)\n",
    "\n",
    "    return print(leaf,B)\n",
    "A=[1,1,1,1,1,1,1,3,2,1,4]\n",
    "solution(A,4)"
   ]
  },
  {
   "cell_type": "markdown",
   "metadata": {},
   "source": [
    "# O(N)"
   ]
  },
  {
   "cell_type": "code",
   "execution_count": 139,
   "metadata": {},
   "outputs": [],
   "source": [
    "def solution(X,A):\n",
    "    leaf=[0]*(X+1)\n",
    "    S=0\n",
    "    for i in range(len(A)):\n",
    "        if leaf[A[i]] == 0:\n",
    "            leaf[A[i]] = 1\n",
    "            S += 1\n",
    "        if S==X:\n",
    "            return(i)\n",
    "            break\n",
    "    return(-1)"
   ]
  },
  {
   "cell_type": "code",
   "execution_count": null,
   "metadata": {},
   "outputs": [],
   "source": []
  }
 ],
 "metadata": {
  "kernelspec": {
   "display_name": "Python 3",
   "language": "python",
   "name": "python3"
  },
  "language_info": {
   "codemirror_mode": {
    "name": "ipython",
    "version": 3
   },
   "file_extension": ".py",
   "mimetype": "text/x-python",
   "name": "python",
   "nbconvert_exporter": "python",
   "pygments_lexer": "ipython3",
   "version": "3.7.6"
  }
 },
 "nbformat": 4,
 "nbformat_minor": 2
}

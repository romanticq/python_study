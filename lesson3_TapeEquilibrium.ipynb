{
 "cells": [
  {
   "cell_type": "markdown",
   "metadata": {},
   "source": [
    "# problem"
   ]
  },
  {
   "cell_type": "markdown",
   "metadata": {},
   "source": [
    "\"Minimize the value |(A[0] + ... + A[P-1]) - (A[P] + ... + A[N-1])|\"\n",
    "\n",
    "A non-empty array A consisting of N integers is given. Array A represents numbers on a tape.\n",
    "\n",
    "Any integer P, such that 0 < P < N, splits this tape into two non-empty parts: A[0], A[1], ..., A[P − 1] and A[P], A[P + 1], ..., A[N − 1].\n",
    "\n",
    "The difference between the two parts is the value of: |(A[0] + A[1] + ... + A[P − 1]) − (A[P] + A[P + 1] + ... + A[N − 1])|\n",
    "\n",
    "In other words, it is the absolute difference between the sum of the first part and the sum of the second part.\n",
    "\n",
    "For example, consider array A such that:\n",
    "\n",
    "  A[0] = 3  \n",
    "  A[1] = 1  \n",
    "  A[2] = 2  \n",
    "  A[3] = 4  \n",
    "  A[4] = 3  \n",
    "We can split this tape in four places:\n",
    "\n",
    "P = 1, difference = |3 − 10| = 7  \n",
    "P = 2, difference = |4 − 9| = 5  \n",
    "P = 3, difference = |6 − 7| = 1  \n",
    "P = 4, difference = |10 − 3| = 7  \n",
    "Write a function:  \n",
    "\n",
    "def solution(A)  \n",
    "\n",
    "that, given a non-empty array A of N integers, returns the minimal difference that can be achieved.  \n",
    "\n",
    "For example, given:\n",
    "\n",
    "  A[0] = 3  \n",
    "  A[1] = 1  \n",
    "  A[2] = 2  \n",
    "  A[3] = 4  \n",
    "  A[4] = 3  \n",
    "the function should return 1, as explained above.\n",
    "\n",
    "Write an efficient algorithm for the following assumptions:\n",
    "\n",
    "N is an integer within the range [2..100,000];  \n",
    "each element of array A is an integer within the range [−1,000..1,000]."
   ]
  },
  {
   "cell_type": "markdown",
   "metadata": {},
   "source": [
    "# solution(100%)"
   ]
  },
  {
   "cell_type": "code",
   "execution_count": 14,
   "metadata": {},
   "outputs": [
    {
     "name": "stdout",
     "output_type": "stream",
     "text": [
      "[2]\n"
     ]
    }
   ],
   "source": [
    "C=[-1,1]\n",
    "D=[]\n",
    "total=sum(C)\n",
    "sum1=0\n",
    "for i in C[:len(C)-1]:\n",
    "    sum1 = sum1+i\n",
    "    D.append(abs(2*sum1 - total))\n",
    "print(D)"
   ]
  },
  {
   "cell_type": "code",
   "execution_count": 25,
   "metadata": {},
   "outputs": [
    {
     "name": "stdout",
     "output_type": "stream",
     "text": [
      "[13, 7, 5, 1, 7]\n"
     ]
    }
   ],
   "source": [
    "A=[3,1,2,4,3]\n",
    "B=[]\n",
    "for i in range(len(A)):\n",
    "    B.append(abs(sum(A[0:i])-(sum(A)-sum(A[0:i]))))\n",
    "print(B)"
   ]
  },
  {
   "cell_type": "code",
   "execution_count": 23,
   "metadata": {},
   "outputs": [
    {
     "data": {
      "text/plain": [
       "0"
      ]
     },
     "execution_count": 23,
     "metadata": {},
     "output_type": "execute_result"
    }
   ],
   "source": [
    "sum(A[0:2])\n",
    "sum(A[6:5])"
   ]
  },
  {
   "cell_type": "code",
   "execution_count": null,
   "metadata": {},
   "outputs": [],
   "source": []
  }
 ],
 "metadata": {
  "kernelspec": {
   "display_name": "Python 3",
   "language": "python",
   "name": "python3"
  },
  "language_info": {
   "codemirror_mode": {
    "name": "ipython",
    "version": 3
   },
   "file_extension": ".py",
   "mimetype": "text/x-python",
   "name": "python",
   "nbconvert_exporter": "python",
   "pygments_lexer": "ipython3",
   "version": "3.7.6"
  }
 },
 "nbformat": 4,
 "nbformat_minor": 2
}

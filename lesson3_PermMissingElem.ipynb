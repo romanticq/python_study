{
 "cells": [
  {
   "cell_type": "markdown",
   "metadata": {},
   "source": [
    "# problem"
   ]
  },
  {
   "cell_type": "markdown",
   "metadata": {},
   "source": [
    "An array A consisting of N different integers is given. The array contains integers in the range [1..(N + 1)], which means that exactly one element is missing.\n",
    "\n",
    "Your goal is to find that missing element.\n",
    "\n",
    "Write a function:\n",
    "\n",
    "def solution(A)\n",
    "\n",
    "that, given an array A, returns the value of the missing element.\n",
    "\n",
    "For example, given array A such that:\n",
    "\n",
    "  A[0] = 2  \n",
    "  A[1] = 3  \n",
    "  A[2] = 1  \n",
    "  A[3] = 5  \n",
    "the function should return 4, as it is the missing element.\n",
    "\n",
    "Write an efficient algorithm for the following assumptions:\n",
    "\n",
    "N is an integer within the range [0..100,000];  \n",
    "the elements of A are all distinct;  \n",
    "each element of array A is an integer within the range [1..(N + 1)]."
   ]
  },
  {
   "cell_type": "markdown",
   "metadata": {},
   "source": [
    "# solution(100%)"
   ]
  },
  {
   "cell_type": "code",
   "execution_count": 16,
   "metadata": {},
   "outputs": [
    {
     "name": "stdout",
     "output_type": "stream",
     "text": [
      "48\n",
      "55\n",
      "7\n"
     ]
    }
   ],
   "source": [
    "A=[1,2,3,4,5,6,8,9,10]\n",
    "sum1=0\n",
    "sum2=0\n",
    "for i in A:\n",
    "    sum1 = sum1+i\n",
    "for i in range(max(A)+1):\n",
    "    sum2 = sum2+i\n",
    "print(sum2-sum1)"
   ]
  },
  {
   "cell_type": "code",
   "execution_count": 18,
   "metadata": {},
   "outputs": [
    {
     "data": {
      "text/plain": [
       "55"
      ]
     },
     "execution_count": 18,
     "metadata": {},
     "output_type": "execute_result"
    }
   ],
   "source": [
    "def solution(A):\n",
    "    \n",
    "    return sum(range(len(A)+2))-sum(A)"
   ]
  }
 ],
 "metadata": {
  "kernelspec": {
   "display_name": "Python 3",
   "language": "python",
   "name": "python3"
  },
  "language_info": {
   "codemirror_mode": {
    "name": "ipython",
    "version": 3
   },
   "file_extension": ".py",
   "mimetype": "text/x-python",
   "name": "python",
   "nbconvert_exporter": "python",
   "pygments_lexer": "ipython3",
   "version": "3.7.6"
  }
 },
 "nbformat": 4,
 "nbformat_minor": 2
}
